{
 "cells": [
  {
   "cell_type": "markdown",
   "metadata": {},
   "source": [
    "Imports"
   ]
  },
  {
   "cell_type": "code",
   "execution_count": 50,
   "metadata": {},
   "outputs": [],
   "source": [
    "import torch\n",
    "import torch.nn as nn\n",
    "from torchvision import datasets, transforms\n",
    "import torch.optim as optim\n",
    "from torch.utils.data import DataLoader\n",
    "\n",
    "from CNN import CNN\n",
    "\n",
    "import matplotlib.pyplot as plt\n",
    "import numpy as np"
   ]
  },
  {
   "cell_type": "markdown",
   "metadata": {},
   "source": [
    "Define Show Function"
   ]
  },
  {
   "cell_type": "code",
   "execution_count": 51,
   "metadata": {},
   "outputs": [],
   "source": [
    "def show(image):\n",
    "    plt.imshow(image, cmap='gray')"
   ]
  },
  {
   "cell_type": "markdown",
   "metadata": {},
   "source": [
    "Import Datasets"
   ]
  },
  {
   "cell_type": "code",
   "execution_count": 52,
   "metadata": {},
   "outputs": [],
   "source": [
    "train_data = datasets.MNIST(\n",
    "    root='data',\n",
    "    train=True,\n",
    "    download=True,\n",
    "    transform=transforms.ToTensor()\n",
    ")\n",
    "\n",
    "test_data = datasets.MNIST(\n",
    "    root='data',\n",
    "    train=False,\n",
    "    download=True,\n",
    "    transform=transforms.ToTensor()\n",
    ")"
   ]
  },
  {
   "cell_type": "markdown",
   "metadata": {},
   "source": [
    "Check Device"
   ]
  },
  {
   "cell_type": "code",
   "execution_count": 53,
   "metadata": {},
   "outputs": [
    {
     "name": "stdout",
     "output_type": "stream",
     "text": [
      "Using CUDA\n"
     ]
    }
   ],
   "source": [
    "device = \"cuda\" if torch.cuda.is_available() else \"cpu\"\n",
    "print(f\"Using {device.upper()}\")"
   ]
  },
  {
   "attachments": {},
   "cell_type": "markdown",
   "metadata": {},
   "source": [
    "Model Parameters"
   ]
  },
  {
   "cell_type": "code",
   "execution_count": 54,
   "metadata": {},
   "outputs": [],
   "source": [
    "input_channels = 1\n",
    "classes = 10\n",
    "conv_kernel_size = 5\n",
    "pool_kernel_size = 2\n",
    "conv_stride = 1\n",
    "pool_stride = 2\n",
    "fc1_output = 1124"
   ]
  },
  {
   "attachments": {},
   "cell_type": "markdown",
   "metadata": {},
   "source": [
    "Define Model"
   ]
  },
  {
   "cell_type": "code",
   "execution_count": 55,
   "metadata": {},
   "outputs": [
    {
     "data": {
      "text/plain": [
       "CNN(\n",
       "  (conv1): Conv2d(1, 10, kernel_size=(5, 5), stride=(1, 1))\n",
       "  (conv2): Conv2d(10, 24, kernel_size=(5, 5), stride=(1, 1))\n",
       "  (pool): MaxPool2d(kernel_size=2, stride=2, padding=0, dilation=1, ceil_mode=False)\n",
       "  (fc1): Linear(in_features=384, out_features=1124, bias=True)\n",
       "  (fc2): Linear(in_features=1124, out_features=2248, bias=True)\n",
       "  (fc3): Linear(in_features=2248, out_features=4496, bias=True)\n",
       "  (fc4): Linear(in_features=4496, out_features=10, bias=True)\n",
       ")"
      ]
     },
     "execution_count": 55,
     "metadata": {},
     "output_type": "execute_result"
    }
   ],
   "source": [
    "model = CNN(input_channels, classes, conv_kernel_size, pool_kernel_size, conv_stride, pool_stride, fc1_output)\n",
    "\n",
    "model.to(device)"
   ]
  },
  {
   "attachments": {},
   "cell_type": "markdown",
   "metadata": {},
   "source": [
    "Training Parameters"
   ]
  },
  {
   "cell_type": "code",
   "execution_count": 56,
   "metadata": {},
   "outputs": [],
   "source": [
    "train_batch_size = 32\n",
    "learning_rate = 0.01\n",
    "momentum = 0.8\n",
    "num_epochs = 200"
   ]
  },
  {
   "cell_type": "code",
   "execution_count": 57,
   "metadata": {},
   "outputs": [],
   "source": [
    "train_loader = DataLoader(train_data, train_batch_size)\n",
    "\n",
    "test_loader = DataLoader(test_data)"
   ]
  },
  {
   "attachments": {},
   "cell_type": "markdown",
   "metadata": {},
   "source": [
    "Loss Function And Optimizer"
   ]
  },
  {
   "cell_type": "code",
   "execution_count": 58,
   "metadata": {},
   "outputs": [],
   "source": [
    "loss_func = nn.CrossEntropyLoss()\n",
    "\n",
    "optimizer = optim.SGD(model.parameters(), lr=learning_rate, momentum=momentum)"
   ]
  },
  {
   "attachments": {},
   "cell_type": "markdown",
   "metadata": {},
   "source": [
    "Train Function"
   ]
  },
  {
   "cell_type": "code",
   "execution_count": 59,
   "metadata": {},
   "outputs": [],
   "source": [
    "def train():\n",
    "\n",
    "    model.train()\n",
    "\n",
    "    for epochs in range(num_epochs):\n",
    "\n",
    "        print(\"Epoch: \", epochs + 1)\n",
    "\n",
    "        for i, (images, labels) in enumerate(train_loader):\n",
    "\n",
    "            images = images.to(device)\n",
    "            labels = labels.to(device)\n",
    "\n",
    "            output = model(images)\n",
    "            loss = loss_func(output, labels)\n",
    "\n",
    "            optimizer.zero_grad()\n",
    "            loss.backward()\n",
    "            optimizer.step()"
   ]
  },
  {
   "attachments": {},
   "cell_type": "markdown",
   "metadata": {},
   "source": [
    "Test Function"
   ]
  },
  {
   "cell_type": "code",
   "execution_count": 60,
   "metadata": {},
   "outputs": [],
   "source": [
    "def test():\n",
    "\n",
    "    model.eval()\n",
    "\n",
    "    correct_predictions = 0\n",
    "    images_evaluated = 0\n",
    "\n",
    "    with torch.no_grad():\n",
    "\n",
    "        for image, label in test_loader:\n",
    "\n",
    "            image = image.to(device)\n",
    "            label = label.to(device)\n",
    "\n",
    "            output = model(image)\n",
    "\n",
    "            images_evaluated += 1\n",
    "\n",
    "            prediction = torch.argmax(output)\n",
    "\n",
    "            if prediction == label:\n",
    "                correct_predictions += 1\n",
    "    \n",
    "    accuracy = correct_predictions / images_evaluated * 100\n",
    "\n",
    "    return accuracy, correct_predictions, images_evaluated"
   ]
  },
  {
   "attachments": {},
   "cell_type": "markdown",
   "metadata": {},
   "source": [
    "Train & Test"
   ]
  },
  {
   "cell_type": "code",
   "execution_count": 61,
   "metadata": {},
   "outputs": [
    {
     "name": "stdout",
     "output_type": "stream",
     "text": [
      "(14.149999999999999, 1415, 10000)\n",
      "-------------------------------\n",
      "Epoch:  1\n",
      "Epoch:  2\n",
      "Epoch:  3\n",
      "Epoch:  4\n",
      "Epoch:  5\n",
      "Epoch:  6\n",
      "Epoch:  7\n",
      "Epoch:  8\n",
      "Epoch:  9\n",
      "Epoch:  10\n",
      "Epoch:  11\n",
      "Epoch:  12\n",
      "Epoch:  13\n",
      "Epoch:  14\n",
      "Epoch:  15\n",
      "Epoch:  16\n",
      "Epoch:  17\n",
      "Epoch:  18\n",
      "Epoch:  19\n",
      "Epoch:  20\n",
      "Epoch:  21\n",
      "Epoch:  22\n",
      "Epoch:  23\n",
      "Epoch:  24\n",
      "Epoch:  25\n",
      "Epoch:  26\n",
      "Epoch:  27\n",
      "Epoch:  28\n",
      "Epoch:  29\n",
      "Epoch:  30\n",
      "Epoch:  31\n",
      "Epoch:  32\n",
      "Epoch:  33\n",
      "Epoch:  34\n",
      "Epoch:  35\n",
      "Epoch:  36\n",
      "Epoch:  37\n",
      "Epoch:  38\n",
      "Epoch:  39\n",
      "Epoch:  40\n",
      "Epoch:  41\n",
      "Epoch:  42\n",
      "Epoch:  43\n",
      "Epoch:  44\n",
      "Epoch:  45\n",
      "Epoch:  46\n",
      "Epoch:  47\n",
      "Epoch:  48\n",
      "Epoch:  49\n",
      "Epoch:  50\n",
      "Epoch:  51\n",
      "Epoch:  52\n",
      "Epoch:  53\n",
      "Epoch:  54\n",
      "Epoch:  55\n",
      "Epoch:  56\n",
      "Epoch:  57\n",
      "Epoch:  58\n",
      "Epoch:  59\n",
      "Epoch:  60\n",
      "Epoch:  61\n",
      "Epoch:  62\n",
      "Epoch:  63\n",
      "Epoch:  64\n",
      "Epoch:  65\n",
      "Epoch:  66\n",
      "Epoch:  67\n",
      "Epoch:  68\n",
      "Epoch:  69\n",
      "Epoch:  70\n",
      "Epoch:  71\n",
      "Epoch:  72\n",
      "Epoch:  73\n",
      "Epoch:  74\n",
      "Epoch:  75\n",
      "Epoch:  76\n",
      "Epoch:  77\n",
      "Epoch:  78\n",
      "Epoch:  79\n",
      "Epoch:  80\n",
      "Epoch:  81\n",
      "Epoch:  82\n",
      "Epoch:  83\n",
      "Epoch:  84\n",
      "Epoch:  85\n",
      "Epoch:  86\n",
      "Epoch:  87\n",
      "Epoch:  88\n",
      "Epoch:  89\n",
      "Epoch:  90\n",
      "Epoch:  91\n",
      "Epoch:  92\n",
      "Epoch:  93\n",
      "Epoch:  94\n",
      "Epoch:  95\n",
      "Epoch:  96\n",
      "Epoch:  97\n",
      "Epoch:  98\n",
      "Epoch:  99\n",
      "Epoch:  100\n",
      "Epoch:  101\n",
      "Epoch:  102\n",
      "Epoch:  103\n",
      "Epoch:  104\n",
      "Epoch:  105\n",
      "Epoch:  106\n",
      "Epoch:  107\n",
      "Epoch:  108\n",
      "Epoch:  109\n",
      "Epoch:  110\n",
      "Epoch:  111\n",
      "Epoch:  112\n",
      "Epoch:  113\n",
      "Epoch:  114\n",
      "Epoch:  115\n",
      "Epoch:  116\n",
      "Epoch:  117\n",
      "Epoch:  118\n",
      "Epoch:  119\n",
      "Epoch:  120\n",
      "Epoch:  121\n",
      "Epoch:  122\n",
      "Epoch:  123\n",
      "Epoch:  124\n",
      "Epoch:  125\n",
      "Epoch:  126\n",
      "Epoch:  127\n",
      "Epoch:  128\n",
      "Epoch:  129\n",
      "Epoch:  130\n",
      "Epoch:  131\n",
      "Epoch:  132\n",
      "Epoch:  133\n",
      "Epoch:  134\n",
      "Epoch:  135\n",
      "Epoch:  136\n",
      "Epoch:  137\n",
      "Epoch:  138\n",
      "Epoch:  139\n",
      "Epoch:  140\n",
      "Epoch:  141\n",
      "Epoch:  142\n",
      "Epoch:  143\n",
      "Epoch:  144\n",
      "Epoch:  145\n",
      "Epoch:  146\n",
      "Epoch:  147\n",
      "Epoch:  148\n",
      "Epoch:  149\n",
      "Epoch:  150\n",
      "Epoch:  151\n",
      "Epoch:  152\n",
      "Epoch:  153\n",
      "Epoch:  154\n",
      "Epoch:  155\n",
      "Epoch:  156\n",
      "Epoch:  157\n",
      "Epoch:  158\n",
      "Epoch:  159\n",
      "Epoch:  160\n",
      "Epoch:  161\n",
      "Epoch:  162\n",
      "Epoch:  163\n",
      "Epoch:  164\n",
      "Epoch:  165\n",
      "Epoch:  166\n",
      "Epoch:  167\n",
      "Epoch:  168\n",
      "Epoch:  169\n",
      "Epoch:  170\n",
      "Epoch:  171\n",
      "Epoch:  172\n",
      "Epoch:  173\n",
      "Epoch:  174\n",
      "Epoch:  175\n",
      "Epoch:  176\n",
      "Epoch:  177\n",
      "Epoch:  178\n",
      "Epoch:  179\n",
      "Epoch:  180\n",
      "Epoch:  181\n",
      "Epoch:  182\n",
      "Epoch:  183\n",
      "Epoch:  184\n",
      "Epoch:  185\n",
      "Epoch:  186\n",
      "Epoch:  187\n",
      "Epoch:  188\n",
      "Epoch:  189\n",
      "Epoch:  190\n",
      "Epoch:  191\n",
      "Epoch:  192\n",
      "Epoch:  193\n",
      "Epoch:  194\n",
      "Epoch:  195\n",
      "Epoch:  196\n",
      "Epoch:  197\n",
      "Epoch:  198\n",
      "Epoch:  199\n",
      "Epoch:  200\n",
      "-------------------------------\n",
      "(99.33999999999999, 9934, 10000)\n"
     ]
    }
   ],
   "source": [
    "print(test())\n",
    "\n",
    "print(\"-------------------------------\")\n",
    "\n",
    "train()\n",
    "\n",
    "print(\"-------------------------------\")\n",
    "\n",
    "print(test())"
   ]
  },
  {
   "cell_type": "code",
   "execution_count": 62,
   "metadata": {},
   "outputs": [],
   "source": [
    "save_file = \"model_data.pth\"\n",
    "\n",
    "torch.save(model, save_file)"
   ]
  }
 ],
 "metadata": {
  "kernelspec": {
   "display_name": "Python 3.9.13 64-bit",
   "language": "python",
   "name": "python3"
  },
  "language_info": {
   "codemirror_mode": {
    "name": "ipython",
    "version": 3
   },
   "file_extension": ".py",
   "mimetype": "text/x-python",
   "name": "python",
   "nbconvert_exporter": "python",
   "pygments_lexer": "ipython3",
   "version": "3.9.13"
  },
  "orig_nbformat": 4,
  "vscode": {
   "interpreter": {
    "hash": "11938c6bc6919ae2720b4d5011047913343b08a43b18698fd82dedb0d4417594"
   }
  }
 },
 "nbformat": 4,
 "nbformat_minor": 2
}
